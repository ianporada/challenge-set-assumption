{
 "cells": [
  {
   "cell_type": "code",
   "execution_count": 3,
   "metadata": {},
   "outputs": [],
   "source": [
    "import datasets"
   ]
  },
  {
   "cell_type": "code",
   "execution_count": 6,
   "metadata": {},
   "outputs": [
    {
     "data": {
      "text/plain": [
       "2"
      ]
     },
     "execution_count": 6,
     "metadata": {},
     "output_type": "execute_result"
    }
   ],
   "source": [
    "dataset = datasets.load_dataset(\"coref-data/winogrande_coref\")"
   ]
  },
  {
   "cell_type": "code",
   "execution_count": 7,
   "metadata": {},
   "outputs": [
    {
     "data": {
      "text/plain": [
       "DatasetDict({\n",
       "    train: Dataset({\n",
       "        features: ['id', 'genre', 'text', 'sentences', 'coref_chains', 'meta_data'],\n",
       "        num_rows: 36034\n",
       "    })\n",
       "    validation: Dataset({\n",
       "        features: ['id', 'genre', 'text', 'sentences', 'coref_chains', 'meta_data'],\n",
       "        num_rows: 1117\n",
       "    })\n",
       "})"
      ]
     },
     "execution_count": 7,
     "metadata": {},
     "output_type": "execute_result"
    }
   ],
   "source": [
    "dataset"
   ]
  },
  {
   "cell_type": "markdown",
   "metadata": {},
   "source": [
    "Filter out examples where there isn't a mention that is a pronoun (or \"they\" occurs multiple times)"
   ]
  },
  {
   "cell_type": "code",
   "execution_count": 22,
   "metadata": {},
   "outputs": [
    {
     "name": "stderr",
     "output_type": "stream",
     "text": [
      "Filter: 100%|██████████| 36034/36034 [00:06<00:00, 5301.93 examples/s]\n",
      "Filter: 100%|██████████| 1117/1117 [00:00<00:00, 5902.02 examples/s]\n"
     ]
    }
   ],
   "source": [
    "from functools import partial\n",
    "\n",
    "def mention_to_str(sentences, mention):\n",
    "    sent, start, end = mention\n",
    "    tokens = sentences[sent][\"tokens\"][start:end + 1]\n",
    "    words = map(lambda x: x[\"text\"], tokens)\n",
    "    return \" \".join(words).lower()\n",
    "\n",
    "def is_pronominal(ex):\n",
    "    sentences = ex[\"sentences\"]\n",
    "    coref_chains = ex[\"coref_chains\"]\n",
    "\n",
    "    assert len(coref_chains) == 2\n",
    "    coref_chains.sort(key=lambda x: len(x))\n",
    "    assert len(coref_chains[0]) == 1 and len(coref_chains[1]) == 2\n",
    "\n",
    "    long_chain = coref_chains[1]\n",
    "    mention_to_str_partial = partial(mention_to_str, sentences)\n",
    "    mentions = map(mention_to_str_partial, long_chain)\n",
    "\n",
    "    return any(x in mentions for x in [\"he\", \"she\", \"they\"]) and ex[\"text\"].lower().count(\"they\") < 2\n",
    "\n",
    "pronominal = dataset.filter(is_pronominal)"
   ]
  },
  {
   "cell_type": "code",
   "execution_count": 25,
   "metadata": {},
   "outputs": [
    {
     "data": {
      "text/plain": [
       "DatasetDict({\n",
       "    train: Dataset({\n",
       "        features: ['id', 'genre', 'text', 'sentences', 'coref_chains', 'meta_data'],\n",
       "        num_rows: 8710\n",
       "    })\n",
       "    validation: Dataset({\n",
       "        features: ['id', 'genre', 'text', 'sentences', 'coref_chains', 'meta_data'],\n",
       "        num_rows: 249\n",
       "    })\n",
       "})"
      ]
     },
     "execution_count": 25,
     "metadata": {},
     "output_type": "execute_result"
    }
   ],
   "source": [
    "pronominal"
   ]
  },
  {
   "cell_type": "code",
   "execution_count": 31,
   "metadata": {},
   "outputs": [],
   "source": [
    "winogrande_pronominal = pronominal[\"train\"].train_test_split(test_size=len(pronominal[\"validation\"]))"
   ]
  },
  {
   "cell_type": "code",
   "execution_count": 32,
   "metadata": {},
   "outputs": [
    {
     "data": {
      "text/plain": [
       "DatasetDict({\n",
       "    train: Dataset({\n",
       "        features: ['id', 'genre', 'text', 'sentences', 'coref_chains', 'meta_data'],\n",
       "        num_rows: 8461\n",
       "    })\n",
       "    test: Dataset({\n",
       "        features: ['id', 'genre', 'text', 'sentences', 'coref_chains', 'meta_data'],\n",
       "        num_rows: 249\n",
       "    })\n",
       "})"
      ]
     },
     "execution_count": 32,
     "metadata": {},
     "output_type": "execute_result"
    }
   ],
   "source": [
    "winogrande_pronominal[\"validation\"] = winogrande_pronominal[\"test\"]\n",
    "winogrande_pronominal[\"test\"] = pronominal[\"validation\"]"
   ]
  },
  {
   "cell_type": "code",
   "execution_count": 33,
   "metadata": {},
   "outputs": [
    {
     "name": "stderr",
     "output_type": "stream",
     "text": [
      "Creating parquet from Arrow format: 100%|██████████| 9/9 [00:00<00:00, 20.49ba/s]\n",
      "Uploading the dataset shards: 100%|██████████| 1/1 [00:02<00:00,  2.84s/it]\n",
      "Creating parquet from Arrow format: 100%|██████████| 1/1 [00:00<00:00, 29.37ba/s]\n",
      "Uploading the dataset shards: 100%|██████████| 1/1 [00:00<00:00,  1.02it/s]\n"
     ]
    },
    {
     "data": {
      "text/plain": [
       "CommitInfo(commit_url='https://huggingface.co/datasets/coref-data/pronominal_winogrande/commit/0ee08c38dadf648f3b12fd441dd25660e377863b', commit_message='Upload dataset', commit_description='', oid='0ee08c38dadf648f3b12fd441dd25660e377863b', pr_url=None, pr_revision=None, pr_num=None)"
      ]
     },
     "execution_count": 33,
     "metadata": {},
     "output_type": "execute_result"
    }
   ],
   "source": [
    "winogrande_pronominal.push_to_hub(\"coref-data/pronominal_winogrande\")"
   ]
  }
 ],
 "metadata": {
  "kernelspec": {
   "display_name": "anaphora_venv",
   "language": "python",
   "name": "python3"
  },
  "language_info": {
   "codemirror_mode": {
    "name": "ipython",
    "version": 3
   },
   "file_extension": ".py",
   "mimetype": "text/x-python",
   "name": "python",
   "nbconvert_exporter": "python",
   "pygments_lexer": "ipython3",
   "version": "3.12.4"
  }
 },
 "nbformat": 4,
 "nbformat_minor": 2
}
