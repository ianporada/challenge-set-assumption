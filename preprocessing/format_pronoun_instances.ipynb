{
 "cells": [
  {
   "cell_type": "markdown",
   "metadata": {},
   "source": [
    "First, filter examples to single atecedent, single distractor.\n",
    "\n",
    "\n",
    "\n",
    "For each example, convert to a minimal format including:\n",
    "    1. speaker information\n",
    "    2. tokens and any parse information\n",
    "    3. pronoun token\n",
    "    4. pronoun index\n",
    "    5. antecedent tokens\n",
    "    6. antecedent indices\n",
    "    7. distractor tokens\n",
    "    8. distractor indices\n",
    "    9. prompt examples"
   ]
  },
  {
   "cell_type": "code",
   "execution_count": 10,
   "metadata": {},
   "outputs": [],
   "source": [
    "config_names = [\n",
    "    'conll2012_indiscrim_english_v4',\n",
    "    'gum_indiscrim_ontogum',\n",
    "    'arrau_indiscrim_default',\n",
    "    'gap_indiscrim_default',\n",
    "    'davis_pdp_indiscrim_default',\n",
    "    'preco_indiscrim_default',\n",
    "    'litbank_indiscrim_split_0',\n",
    "    'gum_indiscrim_original',\n",
    "    'phrase_detectives_indiscrim_default',\n",
    "    'mmc_indiscrim_mmc_en',\n",
    "    'davis_wsc_indiscrim_wsc273',\n",
    "    'superglue_wsc_indiscrim_default',\n",
    "    'dpr_indiscrim_default',\n",
    "    'knowref_60k_indiscrim_default',\n",
    "    'pronominal_winogrande_default'\n",
    "]\n",
    "\n",
    "ignore_train_split = [\n",
    "    'conll2012_indiscrim_english_v4',\n",
    "    'preco_indiscrim_default',\n",
    "    'phrase_detectives_indiscrim_default',\n",
    "    'mmc_indiscrim_mmc_en',\n",
    "    'knowref_60k_indiscrim_default',\n",
    "]\n"
   ]
  },
  {
   "cell_type": "code",
   "execution_count": 18,
   "metadata": {},
   "outputs": [],
   "source": [
    "import random\n",
    "\n",
    "def shuffle_distractors(ex):\n",
    "    random.shuffle(ex[\"distractors\"])\n",
    "    return ex"
   ]
  },
  {
   "cell_type": "code",
   "execution_count": 19,
   "metadata": {},
   "outputs": [
    {
     "name": "stdout",
     "output_type": "stream",
     "text": [
      "Processing:  conll2012_indiscrim_english_v4\n"
     ]
    },
    {
     "name": "stderr",
     "output_type": "stream",
     "text": [
      "Map: 100%|██████████| 1536/1536 [00:00<00:00, 3887.14 examples/s]\n",
      "Map: 100%|██████████| 1642/1642 [00:00<00:00, 3589.50 examples/s]\n"
     ]
    },
    {
     "name": "stdout",
     "output_type": "stream",
     "text": [
      "DatasetDict({\n",
      "    validation: Dataset({\n",
      "        features: ['sentences', 'id', 'text', 'coref_chains', 'genre', 'meta_data', 'cluster_index', 'pronoun', 'antecedents', 'distractors', 'local_context_start', 'local_context_end', 'local_context'],\n",
      "        num_rows: 1536\n",
      "    })\n",
      "    test: Dataset({\n",
      "        features: ['sentences', 'id', 'text', 'coref_chains', 'genre', 'meta_data', 'cluster_index', 'pronoun', 'antecedents', 'distractors', 'local_context_start', 'local_context_end', 'local_context'],\n",
      "        num_rows: 1642\n",
      "    })\n",
      "})\n"
     ]
    },
    {
     "name": "stderr",
     "output_type": "stream",
     "text": [
      "Creating parquet from Arrow format: 100%|██████████| 2/2 [00:00<00:00, 11.15ba/s]\n",
      "Uploading the dataset shards: 100%|██████████| 1/1 [00:02<00:00,  2.30s/it]\n",
      "Creating parquet from Arrow format: 100%|██████████| 2/2 [00:00<00:00, 10.37ba/s]\n",
      "Uploading the dataset shards: 100%|██████████| 1/1 [00:02<00:00,  2.20s/it]\n",
      "README.md: 100%|██████████| 32.3k/32.3k [00:00<00:00, 8.24MB/s]\n"
     ]
    },
    {
     "name": "stdout",
     "output_type": "stream",
     "text": [
      "Processing:  gum_indiscrim_ontogum\n"
     ]
    },
    {
     "name": "stderr",
     "output_type": "stream",
     "text": [
      "Map: 100%|██████████| 1587/1587 [00:00<00:00, 2098.46 examples/s]\n",
      "Map: 100%|██████████| 272/272 [00:00<00:00, 2192.95 examples/s]\n",
      "Map: 100%|██████████| 236/236 [00:00<00:00, 2293.55 examples/s]\n"
     ]
    },
    {
     "name": "stdout",
     "output_type": "stream",
     "text": [
      "DatasetDict({\n",
      "    train: Dataset({\n",
      "        features: ['sentences', 'id', 'text', 'coref_chains', 'genre', 'meta_data', 'cluster_index', 'pronoun', 'antecedents', 'distractors', 'local_context_start', 'local_context_end', 'local_context'],\n",
      "        num_rows: 1587\n",
      "    })\n",
      "    validation: Dataset({\n",
      "        features: ['sentences', 'id', 'text', 'coref_chains', 'genre', 'meta_data', 'cluster_index', 'pronoun', 'antecedents', 'distractors', 'local_context_start', 'local_context_end', 'local_context'],\n",
      "        num_rows: 272\n",
      "    })\n",
      "    test: Dataset({\n",
      "        features: ['sentences', 'id', 'text', 'coref_chains', 'genre', 'meta_data', 'cluster_index', 'pronoun', 'antecedents', 'distractors', 'local_context_start', 'local_context_end', 'local_context'],\n",
      "        num_rows: 236\n",
      "    })\n",
      "})\n"
     ]
    },
    {
     "name": "stderr",
     "output_type": "stream",
     "text": [
      "Creating parquet from Arrow format: 100%|██████████| 2/2 [00:00<00:00,  4.64ba/s]\n",
      "Uploading the dataset shards: 100%|██████████| 1/1 [00:03<00:00,  3.94s/it]\n",
      "Creating parquet from Arrow format: 100%|██████████| 1/1 [00:00<00:00, 12.03ba/s]\n",
      "Uploading the dataset shards: 100%|██████████| 1/1 [00:02<00:00,  2.18s/it]\n",
      "Creating parquet from Arrow format: 100%|██████████| 1/1 [00:00<00:00, 13.36ba/s]\n",
      "Uploading the dataset shards: 100%|██████████| 1/1 [00:02<00:00,  2.36s/it]\n",
      "README.md: 100%|██████████| 32.3k/32.3k [00:00<00:00, 25.7MB/s]\n"
     ]
    },
    {
     "name": "stdout",
     "output_type": "stream",
     "text": [
      "Processing:  arrau_indiscrim_default\n"
     ]
    },
    {
     "name": "stderr",
     "output_type": "stream",
     "text": [
      "Map: 100%|██████████| 1981/1981 [00:01<00:00, 1776.12 examples/s]\n",
      "Map: 100%|██████████| 179/179 [00:00<00:00, 1280.19 examples/s]\n",
      "Map: 100%|██████████| 411/411 [00:00<00:00, 2081.51 examples/s]\n"
     ]
    },
    {
     "name": "stdout",
     "output_type": "stream",
     "text": [
      "DatasetDict({\n",
      "    train: Dataset({\n",
      "        features: ['split', 'id', 'text', 'sentences', 'coref_chains', 'genre', 'meta_data', 'cluster_index', 'pronoun', 'antecedents', 'distractors', 'local_context_start', 'local_context_end', 'local_context'],\n",
      "        num_rows: 1981\n",
      "    })\n",
      "    validation: Dataset({\n",
      "        features: ['split', 'id', 'text', 'sentences', 'coref_chains', 'genre', 'meta_data', 'cluster_index', 'pronoun', 'antecedents', 'distractors', 'local_context_start', 'local_context_end', 'local_context'],\n",
      "        num_rows: 179\n",
      "    })\n",
      "    test: Dataset({\n",
      "        features: ['split', 'id', 'text', 'sentences', 'coref_chains', 'genre', 'meta_data', 'cluster_index', 'pronoun', 'antecedents', 'distractors', 'local_context_start', 'local_context_end', 'local_context'],\n",
      "        num_rows: 411\n",
      "    })\n",
      "})\n"
     ]
    },
    {
     "name": "stderr",
     "output_type": "stream",
     "text": [
      "Creating parquet from Arrow format: 100%|██████████| 2/2 [00:00<00:00,  3.30ba/s]\n",
      "Uploading the dataset shards: 100%|██████████| 1/1 [00:03<00:00,  3.61s/it]\n",
      "Creating parquet from Arrow format: 100%|██████████| 1/1 [00:00<00:00, 11.26ba/s]\n",
      "Uploading the dataset shards: 100%|██████████| 1/1 [00:02<00:00,  2.35s/it]\n",
      "Creating parquet from Arrow format: 100%|██████████| 1/1 [00:00<00:00,  8.00ba/s]\n",
      "Uploading the dataset shards: 100%|██████████| 1/1 [00:02<00:00,  2.50s/it]\n",
      "README.md: 100%|██████████| 32.3k/32.3k [00:00<00:00, 4.23MB/s]\n"
     ]
    },
    {
     "name": "stdout",
     "output_type": "stream",
     "text": [
      "Processing:  gap_indiscrim_default\n"
     ]
    },
    {
     "name": "stderr",
     "output_type": "stream",
     "text": [
      "Map: 100%|██████████| 829/829 [00:00<00:00, 8115.92 examples/s]\n",
      "Map: 100%|██████████| 203/203 [00:00<00:00, 7648.06 examples/s]\n",
      "Map: 100%|██████████| 832/832 [00:00<00:00, 8682.93 examples/s]\n"
     ]
    },
    {
     "name": "stdout",
     "output_type": "stream",
     "text": [
      "DatasetDict({\n",
      "    train: Dataset({\n",
      "        features: ['id', 'text', 'sentences', 'coref_chains', 'genre', 'meta_data', 'cluster_index', 'pronoun', 'antecedents', 'distractors', 'local_context_start', 'local_context_end', 'local_context'],\n",
      "        num_rows: 829\n",
      "    })\n",
      "    validation: Dataset({\n",
      "        features: ['id', 'text', 'sentences', 'coref_chains', 'genre', 'meta_data', 'cluster_index', 'pronoun', 'antecedents', 'distractors', 'local_context_start', 'local_context_end', 'local_context'],\n",
      "        num_rows: 203\n",
      "    })\n",
      "    test: Dataset({\n",
      "        features: ['id', 'text', 'sentences', 'coref_chains', 'genre', 'meta_data', 'cluster_index', 'pronoun', 'antecedents', 'distractors', 'local_context_start', 'local_context_end', 'local_context'],\n",
      "        num_rows: 832\n",
      "    })\n",
      "})\n"
     ]
    },
    {
     "name": "stderr",
     "output_type": "stream",
     "text": [
      "Creating parquet from Arrow format: 100%|██████████| 1/1 [00:00<00:00, 20.65ba/s]\n",
      "Uploading the dataset shards: 100%|██████████| 1/1 [00:01<00:00,  1.43s/it]\n",
      "Creating parquet from Arrow format: 100%|██████████| 1/1 [00:00<00:00, 43.29ba/s]\n",
      "Uploading the dataset shards: 100%|██████████| 1/1 [00:00<00:00,  1.00it/s]\n",
      "Creating parquet from Arrow format: 100%|██████████| 1/1 [00:00<00:00, 18.28ba/s]\n",
      "Uploading the dataset shards: 100%|██████████| 1/1 [00:01<00:00,  1.40s/it]\n",
      "README.md: 100%|██████████| 32.3k/32.3k [00:00<00:00, 29.4MB/s]\n"
     ]
    },
    {
     "name": "stdout",
     "output_type": "stream",
     "text": [
      "Processing:  davis_pdp_indiscrim_default\n"
     ]
    },
    {
     "name": "stderr",
     "output_type": "stream",
     "text": [
      "Map: 100%|██████████| 33/33 [00:00<00:00, 2157.13 examples/s]\n"
     ]
    },
    {
     "name": "stdout",
     "output_type": "stream",
     "text": [
      "DatasetDict({\n",
      "    test: Dataset({\n",
      "        features: ['text', 'id', 'sentences', 'coref_chains', 'genre', 'meta_data', 'cluster_index', 'pronoun', 'antecedents', 'distractors', 'local_context_start', 'local_context_end', 'local_context'],\n",
      "        num_rows: 33\n",
      "    })\n",
      "})\n"
     ]
    },
    {
     "name": "stderr",
     "output_type": "stream",
     "text": [
      "Creating parquet from Arrow format: 100%|██████████| 1/1 [00:00<00:00, 181.81ba/s]\n",
      "Uploading the dataset shards: 100%|██████████| 1/1 [00:00<00:00,  1.04it/s]\n",
      "README.md: 100%|██████████| 32.3k/32.3k [00:00<00:00, 28.5MB/s]\n"
     ]
    },
    {
     "name": "stdout",
     "output_type": "stream",
     "text": [
      "Processing:  preco_indiscrim_default\n"
     ]
    },
    {
     "name": "stderr",
     "output_type": "stream",
     "text": [
      "Map: 100%|██████████| 2167/2167 [00:00<00:00, 8049.51 examples/s]\n",
      "Map: 100%|██████████| 2248/2248 [00:00<00:00, 8747.63 examples/s]\n"
     ]
    },
    {
     "name": "stdout",
     "output_type": "stream",
     "text": [
      "DatasetDict({\n",
      "    validation: Dataset({\n",
      "        features: ['id', 'sentences', 'text', 'coref_chains', 'genre', 'meta_data', 'cluster_index', 'pronoun', 'antecedents', 'distractors', 'local_context_start', 'local_context_end', 'local_context'],\n",
      "        num_rows: 2167\n",
      "    })\n",
      "    test: Dataset({\n",
      "        features: ['id', 'sentences', 'text', 'coref_chains', 'genre', 'meta_data', 'cluster_index', 'pronoun', 'antecedents', 'distractors', 'local_context_start', 'local_context_end', 'local_context'],\n",
      "        num_rows: 2248\n",
      "    })\n",
      "})\n"
     ]
    },
    {
     "name": "stderr",
     "output_type": "stream",
     "text": [
      "Creating parquet from Arrow format: 100%|██████████| 3/3 [00:00<00:00, 38.46ba/s]\n",
      "Uploading the dataset shards: 100%|██████████| 1/1 [00:02<00:00,  2.24s/it]\n",
      "Creating parquet from Arrow format: 100%|██████████| 3/3 [00:00<00:00, 39.58ba/s]\n",
      "Uploading the dataset shards: 100%|██████████| 1/1 [00:02<00:00,  2.11s/it]\n",
      "README.md: 100%|██████████| 32.3k/32.3k [00:00<00:00, 36.4MB/s]\n"
     ]
    },
    {
     "name": "stdout",
     "output_type": "stream",
     "text": [
      "Processing:  litbank_indiscrim_split_0\n"
     ]
    },
    {
     "name": "stderr",
     "output_type": "stream",
     "text": [
      "Map: 100%|██████████| 2158/2158 [00:04<00:00, 454.83 examples/s]\n",
      "Map: 100%|██████████| 305/305 [00:00<00:00, 448.73 examples/s]\n",
      "Map: 100%|██████████| 254/254 [00:00<00:00, 377.72 examples/s]\n"
     ]
    },
    {
     "name": "stdout",
     "output_type": "stream",
     "text": [
      "DatasetDict({\n",
      "    train: Dataset({\n",
      "        features: ['sentences', 'coref_chains', 'id', 'text', 'genre', 'meta_data', 'cluster_index', 'pronoun', 'antecedents', 'distractors', 'local_context_start', 'local_context_end', 'local_context'],\n",
      "        num_rows: 2158\n",
      "    })\n",
      "    validation: Dataset({\n",
      "        features: ['sentences', 'coref_chains', 'id', 'text', 'genre', 'meta_data', 'cluster_index', 'pronoun', 'antecedents', 'distractors', 'local_context_start', 'local_context_end', 'local_context'],\n",
      "        num_rows: 305\n",
      "    })\n",
      "    test: Dataset({\n",
      "        features: ['sentences', 'coref_chains', 'id', 'text', 'genre', 'meta_data', 'cluster_index', 'pronoun', 'antecedents', 'distractors', 'local_context_start', 'local_context_end', 'local_context'],\n",
      "        num_rows: 254\n",
      "    })\n",
      "})\n"
     ]
    },
    {
     "name": "stderr",
     "output_type": "stream",
     "text": [
      "Creating parquet from Arrow format: 100%|██████████| 1/1 [00:01<00:00,  1.10s/ba]\n",
      "Creating parquet from Arrow format: 100%|██████████| 1/1 [00:01<00:00,  1.42s/ba]\n",
      "Creating parquet from Arrow format: 100%|██████████| 1/1 [00:01<00:00,  1.21s/ba]\n",
      "Creating parquet from Arrow format: 100%|██████████| 1/1 [00:01<00:00,  1.14s/ba]\n",
      "Uploading the dataset shards: 100%|██████████| 4/4 [00:22<00:00,  5.53s/it]\n",
      "Creating parquet from Arrow format: 100%|██████████| 1/1 [00:00<00:00,  1.38ba/s]\n",
      "Uploading the dataset shards: 100%|██████████| 1/1 [00:02<00:00,  2.33s/it]\n",
      "Creating parquet from Arrow format: 100%|██████████| 1/1 [00:00<00:00,  1.40ba/s]\n",
      "Uploading the dataset shards: 100%|██████████| 1/1 [00:03<00:00,  3.79s/it]\n",
      "README.md: 100%|██████████| 32.3k/32.3k [00:00<00:00, 59.8MB/s]\n"
     ]
    },
    {
     "name": "stdout",
     "output_type": "stream",
     "text": [
      "Processing:  gum_indiscrim_original\n"
     ]
    },
    {
     "name": "stderr",
     "output_type": "stream",
     "text": [
      "Map: 100%|██████████| 1632/1632 [00:00<00:00, 1819.70 examples/s]\n",
      "Map: 100%|██████████| 261/261 [00:00<00:00, 2042.87 examples/s]\n",
      "Map: 100%|██████████| 238/238 [00:00<00:00, 2318.27 examples/s]\n"
     ]
    },
    {
     "name": "stdout",
     "output_type": "stream",
     "text": [
      "DatasetDict({\n",
      "    train: Dataset({\n",
      "        features: ['sentences', 'id', 'text', 'coref_chains', 'genre', 'meta_data', 'cluster_index', 'pronoun', 'antecedents', 'distractors', 'local_context_start', 'local_context_end', 'local_context'],\n",
      "        num_rows: 1632\n",
      "    })\n",
      "    validation: Dataset({\n",
      "        features: ['sentences', 'id', 'text', 'coref_chains', 'genre', 'meta_data', 'cluster_index', 'pronoun', 'antecedents', 'distractors', 'local_context_start', 'local_context_end', 'local_context'],\n",
      "        num_rows: 261\n",
      "    })\n",
      "    test: Dataset({\n",
      "        features: ['sentences', 'id', 'text', 'coref_chains', 'genre', 'meta_data', 'cluster_index', 'pronoun', 'antecedents', 'distractors', 'local_context_start', 'local_context_end', 'local_context'],\n",
      "        num_rows: 238\n",
      "    })\n",
      "})\n"
     ]
    },
    {
     "name": "stderr",
     "output_type": "stream",
     "text": [
      "Creating parquet from Arrow format: 100%|██████████| 2/2 [00:00<00:00,  2.71ba/s]\n",
      "Uploading the dataset shards: 100%|██████████| 1/1 [00:04<00:00,  4.40s/it]\n",
      "Creating parquet from Arrow format: 100%|██████████| 1/1 [00:00<00:00,  7.62ba/s]\n",
      "Uploading the dataset shards: 100%|██████████| 1/1 [00:01<00:00,  1.31s/it]\n",
      "Creating parquet from Arrow format: 100%|██████████| 1/1 [00:00<00:00,  7.54ba/s]\n",
      "Uploading the dataset shards: 100%|██████████| 1/1 [00:01<00:00,  1.30s/it]\n",
      "README.md: 100%|██████████| 32.3k/32.3k [00:00<00:00, 39.0MB/s]\n"
     ]
    },
    {
     "name": "stdout",
     "output_type": "stream",
     "text": [
      "Processing:  phrase_detectives_indiscrim_default\n"
     ]
    },
    {
     "name": "stderr",
     "output_type": "stream",
     "text": [
      "Map: 100%|██████████| 909/909 [00:00<00:00, 1358.10 examples/s]\n",
      "Map: 100%|██████████| 338/338 [00:00<00:00, 3741.72 examples/s]\n"
     ]
    },
    {
     "name": "stdout",
     "output_type": "stream",
     "text": [
      "DatasetDict({\n",
      "    validation: Dataset({\n",
      "        features: ['sentences', 'coref_chains', 'id', 'text', 'genre', 'meta_data', 'cluster_index', 'pronoun', 'antecedents', 'distractors', 'local_context_start', 'local_context_end', 'local_context'],\n",
      "        num_rows: 909\n",
      "    })\n",
      "    test: Dataset({\n",
      "        features: ['sentences', 'coref_chains', 'id', 'text', 'genre', 'meta_data', 'cluster_index', 'pronoun', 'antecedents', 'distractors', 'local_context_start', 'local_context_end', 'local_context'],\n",
      "        num_rows: 338\n",
      "    })\n",
      "})\n"
     ]
    },
    {
     "name": "stderr",
     "output_type": "stream",
     "text": [
      "Creating parquet from Arrow format: 100%|██████████| 1/1 [00:00<00:00,  3.37ba/s]\n",
      "Uploading the dataset shards: 100%|██████████| 1/1 [00:01<00:00,  1.95s/it]\n",
      "Creating parquet from Arrow format: 100%|██████████| 1/1 [00:00<00:00, 24.34ba/s]\n",
      "Uploading the dataset shards: 100%|██████████| 1/1 [00:01<00:00,  1.23s/it]\n",
      "README.md: 100%|██████████| 32.3k/32.3k [00:00<00:00, 40.5MB/s]\n"
     ]
    },
    {
     "name": "stdout",
     "output_type": "stream",
     "text": [
      "Processing:  mmc_indiscrim_mmc_en\n"
     ]
    },
    {
     "name": "stderr",
     "output_type": "stream",
     "text": [
      "Map: 100%|██████████| 342/342 [00:00<00:00, 3112.35 examples/s]\n",
      "Map: 100%|██████████| 309/309 [00:00<00:00, 4757.66 examples/s]\n"
     ]
    },
    {
     "name": "stdout",
     "output_type": "stream",
     "text": [
      "DatasetDict({\n",
      "    validation: Dataset({\n",
      "        features: ['sentences', 'coref_chains', 'id', 'text', 'genre', 'meta_data', 'cluster_index', 'pronoun', 'antecedents', 'distractors', 'local_context_start', 'local_context_end', 'local_context'],\n",
      "        num_rows: 342\n",
      "    })\n",
      "    test: Dataset({\n",
      "        features: ['sentences', 'coref_chains', 'id', 'text', 'genre', 'meta_data', 'cluster_index', 'pronoun', 'antecedents', 'distractors', 'local_context_start', 'local_context_end', 'local_context'],\n",
      "        num_rows: 309\n",
      "    })\n",
      "})\n"
     ]
    },
    {
     "name": "stderr",
     "output_type": "stream",
     "text": [
      "Creating parquet from Arrow format: 100%|██████████| 1/1 [00:00<00:00, 14.23ba/s]\n",
      "Uploading the dataset shards: 100%|██████████| 1/1 [00:01<00:00,  1.24s/it]\n",
      "Creating parquet from Arrow format: 100%|██████████| 1/1 [00:00<00:00, 20.72ba/s]\n",
      "Uploading the dataset shards: 100%|██████████| 1/1 [00:01<00:00,  1.14s/it]\n",
      "README.md: 100%|██████████| 32.3k/32.3k [00:00<00:00, 21.4MB/s]\n"
     ]
    },
    {
     "name": "stdout",
     "output_type": "stream",
     "text": [
      "Processing:  davis_wsc_indiscrim_wsc273\n"
     ]
    },
    {
     "name": "stderr",
     "output_type": "stream",
     "text": [
      "Map: 100%|██████████| 180/180 [00:00<00:00, 5168.09 examples/s]\n"
     ]
    },
    {
     "name": "stdout",
     "output_type": "stream",
     "text": [
      "DatasetDict({\n",
      "    test: Dataset({\n",
      "        features: ['text', 'id', 'sentences', 'coref_chains', 'genre', 'meta_data', 'cluster_index', 'pronoun', 'antecedents', 'distractors', 'local_context_start', 'local_context_end', 'local_context'],\n",
      "        num_rows: 180\n",
      "    })\n",
      "})\n"
     ]
    },
    {
     "name": "stderr",
     "output_type": "stream",
     "text": [
      "Creating parquet from Arrow format: 100%|██████████| 1/1 [00:00<00:00, 134.90ba/s]\n",
      "Uploading the dataset shards: 100%|██████████| 1/1 [00:01<00:00,  1.15s/it]\n",
      "README.md: 100%|██████████| 32.3k/32.3k [00:00<00:00, 12.2MB/s]\n"
     ]
    },
    {
     "name": "stdout",
     "output_type": "stream",
     "text": [
      "Processing:  superglue_wsc_indiscrim_default\n"
     ]
    },
    {
     "name": "stderr",
     "output_type": "stream",
     "text": [
      "Map: 100%|██████████| 146/146 [00:00<00:00, 4389.23 examples/s]\n"
     ]
    },
    {
     "name": "stdout",
     "output_type": "stream",
     "text": [
      "DatasetDict({\n",
      "    test: Dataset({\n",
      "        features: ['text', 'id', 'sentences', 'coref_chains', 'genre', 'meta_data', 'cluster_index', 'pronoun', 'antecedents', 'distractors', 'local_context_start', 'local_context_end', 'local_context'],\n",
      "        num_rows: 146\n",
      "    })\n",
      "})\n"
     ]
    },
    {
     "name": "stderr",
     "output_type": "stream",
     "text": [
      "Creating parquet from Arrow format: 100%|██████████| 1/1 [00:00<00:00, 114.64ba/s]\n",
      "Uploading the dataset shards: 100%|██████████| 1/1 [00:00<00:00,  1.04it/s]\n",
      "README.md: 100%|██████████| 32.3k/32.3k [00:00<00:00, 29.7MB/s]\n"
     ]
    },
    {
     "name": "stdout",
     "output_type": "stream",
     "text": [
      "Processing:  dpr_indiscrim_default\n"
     ]
    },
    {
     "name": "stderr",
     "output_type": "stream",
     "text": [
      "Map: 100%|██████████| 1318/1318 [00:00<00:00, 10090.63 examples/s]\n",
      "Map: 100%|██████████| 558/558 [00:00<00:00, 11668.10 examples/s]\n"
     ]
    },
    {
     "name": "stdout",
     "output_type": "stream",
     "text": [
      "DatasetDict({\n",
      "    train: Dataset({\n",
      "        features: ['id', 'text', 'sentences', 'coref_chains', 'genre', 'meta_data', 'cluster_index', 'pronoun', 'antecedents', 'distractors', 'local_context_start', 'local_context_end', 'local_context'],\n",
      "        num_rows: 1318\n",
      "    })\n",
      "    test: Dataset({\n",
      "        features: ['id', 'text', 'sentences', 'coref_chains', 'genre', 'meta_data', 'cluster_index', 'pronoun', 'antecedents', 'distractors', 'local_context_start', 'local_context_end', 'local_context'],\n",
      "        num_rows: 558\n",
      "    })\n",
      "})\n"
     ]
    },
    {
     "name": "stderr",
     "output_type": "stream",
     "text": [
      "Creating parquet from Arrow format: 100%|██████████| 2/2 [00:00<00:00, 64.74ba/s]\n",
      "Uploading the dataset shards: 100%|██████████| 1/1 [00:01<00:00,  1.25s/it]\n",
      "Creating parquet from Arrow format: 100%|██████████| 1/1 [00:00<00:00, 70.10ba/s]\n",
      "Uploading the dataset shards: 100%|██████████| 1/1 [00:01<00:00,  1.18s/it]\n",
      "README.md: 100%|██████████| 32.3k/32.3k [00:00<00:00, 38.2MB/s]\n"
     ]
    },
    {
     "name": "stdout",
     "output_type": "stream",
     "text": [
      "Processing:  knowref_60k_indiscrim_default\n"
     ]
    },
    {
     "name": "stderr",
     "output_type": "stream",
     "text": [
      "Map: 100%|██████████| 21240/21240 [00:01<00:00, 12584.92 examples/s]\n",
      "Map: 100%|██████████| 3061/3061 [00:00<00:00, 14325.64 examples/s]\n"
     ]
    },
    {
     "name": "stdout",
     "output_type": "stream",
     "text": [
      "DatasetDict({\n",
      "    validation: Dataset({\n",
      "        features: ['id', 'text', 'sentences', 'coref_chains', 'genre', 'meta_data', 'cluster_index', 'pronoun', 'antecedents', 'distractors', 'local_context_start', 'local_context_end', 'local_context'],\n",
      "        num_rows: 21240\n",
      "    })\n",
      "    test: Dataset({\n",
      "        features: ['id', 'text', 'sentences', 'coref_chains', 'genre', 'meta_data', 'cluster_index', 'pronoun', 'antecedents', 'distractors', 'local_context_start', 'local_context_end', 'local_context'],\n",
      "        num_rows: 3061\n",
      "    })\n",
      "})\n"
     ]
    },
    {
     "name": "stderr",
     "output_type": "stream",
     "text": [
      "Creating parquet from Arrow format: 100%|██████████| 22/22 [00:00<00:00, 191.63ba/s]\n",
      "Uploading the dataset shards: 100%|██████████| 1/1 [00:03<00:00,  3.10s/it]\n",
      "Creating parquet from Arrow format: 100%|██████████| 4/4 [00:00<00:00, 135.50ba/s]\n",
      "Uploading the dataset shards: 100%|██████████| 1/1 [00:01<00:00,  1.13s/it]\n",
      "README.md: 100%|██████████| 32.3k/32.3k [00:00<00:00, 11.5MB/s]\n"
     ]
    },
    {
     "name": "stdout",
     "output_type": "stream",
     "text": [
      "Processing:  pronominal_winogrande_default\n"
     ]
    },
    {
     "name": "stderr",
     "output_type": "stream",
     "text": [
      "Map: 100%|██████████| 7142/7142 [00:00<00:00, 10813.94 examples/s]\n",
      "Map: 100%|██████████| 209/209 [00:00<00:00, 9709.36 examples/s]\n"
     ]
    },
    {
     "name": "stdout",
     "output_type": "stream",
     "text": [
      "DatasetDict({\n",
      "    train: Dataset({\n",
      "        features: ['id', 'genre', 'text', 'sentences', 'coref_chains', 'meta_data', 'cluster_index', 'pronoun', 'antecedents', 'distractors', 'local_context_start', 'local_context_end', 'local_context'],\n",
      "        num_rows: 7142\n",
      "    })\n",
      "    test: Dataset({\n",
      "        features: ['id', 'genre', 'text', 'sentences', 'coref_chains', 'meta_data', 'cluster_index', 'pronoun', 'antecedents', 'distractors', 'local_context_start', 'local_context_end', 'local_context'],\n",
      "        num_rows: 209\n",
      "    })\n",
      "})\n"
     ]
    },
    {
     "name": "stderr",
     "output_type": "stream",
     "text": [
      "Creating parquet from Arrow format: 100%|██████████| 8/8 [00:00<00:00, 78.15ba/s]\n",
      "Uploading the dataset shards: 100%|██████████| 1/1 [00:01<00:00,  1.49s/it]\n",
      "Creating parquet from Arrow format: 100%|██████████| 1/1 [00:00<00:00, 106.02ba/s]\n",
      "Uploading the dataset shards: 100%|██████████| 1/1 [00:01<00:00,  1.08s/it]\n",
      "README.md: 100%|██████████| 32.3k/32.3k [00:00<00:00, 32.5MB/s]\n"
     ]
    }
   ],
   "source": [
    "import datasets\n",
    "\n",
    "dataset_name = \"coref-data/pronominal_coreference_resolution\"\n",
    "new_dataset_name = \"coref-data/pcr_single_antecedent\"\n",
    "\n",
    "for config_name in config_names:\n",
    "    print(\"Processing: \", config_name)\n",
    "\n",
    "    if config_name in ignore_train_split:\n",
    "        dataset = datasets.DatasetDict({\n",
    "            \"validation\": datasets.load_dataset(dataset_name, config_name, split=\"validation\"),\n",
    "            \"test\": datasets.load_dataset(dataset_name, config_name, split=\"test\"),\n",
    "        })\n",
    "    else:\n",
    "        dataset = datasets.load_dataset(dataset_name, config_name)\n",
    "\n",
    "    dataset = dataset.filter(lambda x: len(x[\"antecedents\"]) == 1)\n",
    "    \n",
    "    random.seed(0)\n",
    "    dataset = dataset.map(shuffle_distractors)\n",
    "    \n",
    "    print(dataset)\n",
    "    dataset.push_to_hub(new_dataset_name, config_name)"
   ]
  }
 ],
 "metadata": {
  "kernelspec": {
   "display_name": "anaphora_venv",
   "language": "python",
   "name": "python3"
  },
  "language_info": {
   "codemirror_mode": {
    "name": "ipython",
    "version": 3
   },
   "file_extension": ".py",
   "mimetype": "text/x-python",
   "name": "python",
   "nbconvert_exporter": "python",
   "pygments_lexer": "ipython3",
   "version": "3.12.4"
  }
 },
 "nbformat": 4,
 "nbformat_minor": 2
}
